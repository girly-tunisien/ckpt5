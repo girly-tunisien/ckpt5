{
 "cells": [
  {
   "cell_type": "code",
   "execution_count": 19,
   "id": "3c3c6c84",
   "metadata": {},
   "outputs": [
    {
     "name": "stdout",
     "output_type": "stream",
     "text": [
      "(1, 2, 3)\n"
     ]
    }
   ],
   "source": [
    "class Point3D(object):\n",
    "    def __init__(self,x,y,z):\n",
    "        self.x=x\n",
    "        self.y=y\n",
    "        self.z=z\n",
    "\n",
    "    def __repr__(self) :\n",
    "       return \"(%d, %d, %d)\" %  (self.x, self.y, self.z)\n",
    "\n",
    "\n",
    "\n",
    "my_point=Point3D(1,2,3)\n",
    "print (my_point)"
   ]
  },
  {
   "cell_type": "code",
   "execution_count": 30,
   "id": "c6bf050d",
   "metadata": {},
   "outputs": [
    {
     "name": "stdout",
     "output_type": "stream",
     "text": [
      "12\n",
      "14\n"
     ]
    }
   ],
   "source": [
    "class rectangle():\n",
    "    def __init__(self,length,width):\n",
    "        self.length=length\n",
    "        self.width=width\n",
    "    def compute(self):\n",
    "        return self.length*self.width\n",
    "    def perimeter(self):\n",
    "        return 2 * (self.length+self.width)\n",
    "my_rectangle=rectangle(4,3)\n",
    "print(my_rectangle.compute())\n",
    "print(my_rectangle.perimeter())"
   ]
  },
  {
   "cell_type": "code",
   "execution_count": 38,
   "id": "12452f7e",
   "metadata": {},
   "outputs": [
    {
     "name": "stdout",
     "output_type": "stream",
     "text": [
      "Inside\n"
     ]
    }
   ],
   "source": [
    "class circle():\n",
    "    def __init__(self,o,r):\n",
    "        self.center=o\n",
    "        self.radius=r\n",
    "    def compute(self):\n",
    "        return 3.14*(self.radius**2)\n",
    "    def perimeter(self):\n",
    "        return 2*3.14*self.radius\n",
    "def isInside(pointA, circleC, rad, r, o):\n",
    "    \n",
    "    if ((r - circleC) * (r - circleC) +\n",
    "    (o - pointA) * (o - pointA) <= rad * rad):\n",
    "        return True;\n",
    "    else:\n",
    "        return False;\n",
    "r = 1;\n",
    "o = 1;\n",
    "pointA = 3;\n",
    "circleC = 1;\n",
    "rad = 2;\n",
    "if(isInside(pointA, circleC, rad, r, o)):\n",
    "    print(\"Inside\");\n",
    "else:\n",
    "    print(\"Outside\");\n",
    " \n",
    " \n",
    "        \n",
    "\n",
    "\n",
    "\n",
    "\n"
   ]
  },
  {
   "cell_type": "code",
   "execution_count": 59,
   "id": "2a63e17e",
   "metadata": {},
   "outputs": [
    {
     "name": "stdout",
     "output_type": "stream",
     "text": [
      "Enter the amount to be deposit: 52890\n",
      "Enter the amount to withdraw: 542\n",
      "Balance in the account is 52348.000000\n"
     ]
    }
   ],
   "source": [
    "#Suppose we want to model a bank account with support for deposit and withdraw operations.\n",
    "#Let’s create a python class named bank defined by its balance.\n",
    "#Define two methods deposit and withdraw to compute the new amount of each operation.\n",
    "class Bank:\n",
    "    def __init__(self):\n",
    "        self.balance = 0\n",
    "    def deposit(self):\n",
    "        amount = float(input(\"Enter the amount to be deposit: \"))\n",
    "        self.balance = self.balance + amount\n",
    "    def withdraw(self):\n",
    "        amount = float(input(\"Enter the amount to withdraw: \"))\n",
    "        if (self.balance >= amount):\n",
    "            self.balance = self.balance - amount    \n",
    "        else:\n",
    "            print ('Insuficient Balance')\n",
    "    def enquiry(self):\n",
    "        print (\"Balance in the account is %f\" % self.balance)\n",
    "    \n",
    "    \n",
    "acc = Bank()\n",
    "acc.deposit()\n",
    "acc.withdraw()\n",
    "acc.enquiry()"
   ]
  },
  {
   "cell_type": "code",
   "execution_count": null,
   "id": "bd4034cb",
   "metadata": {},
   "outputs": [],
   "source": []
  }
 ],
 "metadata": {
  "kernelspec": {
   "display_name": "Python 3",
   "language": "python",
   "name": "python3"
  },
  "language_info": {
   "codemirror_mode": {
    "name": "ipython",
    "version": 3
   },
   "file_extension": ".py",
   "mimetype": "text/x-python",
   "name": "python",
   "nbconvert_exporter": "python",
   "pygments_lexer": "ipython3",
   "version": "3.8.8"
  }
 },
 "nbformat": 4,
 "nbformat_minor": 5
}
